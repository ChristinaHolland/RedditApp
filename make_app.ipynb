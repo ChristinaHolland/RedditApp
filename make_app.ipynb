{
 "cells": [
  {
   "cell_type": "markdown",
   "metadata": {},
   "source": [
    "## Recreating my logistic regression model from project 3 and turning it into a predictor:"
   ]
  },
  {
   "cell_type": "markdown",
   "metadata": {},
   "source": [
    "Import libraries:"
   ]
  },
  {
   "cell_type": "code",
   "execution_count": 3,
   "metadata": {},
   "outputs": [],
   "source": [
    "import pandas as pd\n",
    "import numpy as np\n",
    "import pickle\n",
    "from sklearn.linear_model import LogisticRegression\n",
    "from sklearn.model_selection import train_test_split, cross_val_score, GridSearchCV\n",
    "from sklearn.feature_extraction.text import CountVectorizer\n",
    "from sklearn.pipeline import make_pipeline, Pipeline\n"
   ]
  },
  {
   "cell_type": "markdown",
   "metadata": {},
   "source": [
    "Read in the data, drop the extra column:"
   ]
  },
  {
   "cell_type": "code",
   "execution_count": 100,
   "metadata": {},
   "outputs": [],
   "source": [
    "df = pd.read_csv('./data/redditcomments.csv')\n",
    "df.drop(columns=['Unnamed: 0'],inplace=True)\n"
   ]
  },
  {
   "cell_type": "markdown",
   "metadata": {},
   "source": [
    "Cleaning:"
   ]
  },
  {
   "cell_type": "code",
   "execution_count": 101,
   "metadata": {},
   "outputs": [],
   "source": [
    "df.dropna(inplace=True)\n",
    "df['char_length'] = [len(comment) for comment in list(df['comment'])]\n",
    "df = df[(df['char_length']>=10) & (df['char_length']<1000)]\n",
    "comments = list(df['comment'])\n",
    "df['flagged'] = [1 if ('removed' in comment.split(' ')) else 0 for comment in comments]\n",
    "df = df[df['flagged']==0]"
   ]
  },
  {
   "cell_type": "markdown",
   "metadata": {},
   "source": [
    "Split into X and y:"
   ]
  },
  {
   "cell_type": "code",
   "execution_count": 115,
   "metadata": {},
   "outputs": [],
   "source": [
    "X = df['comment']\n",
    "y = df['types']\n"
   ]
  },
  {
   "cell_type": "markdown",
   "metadata": {},
   "source": [
    "Vectorize, with custom stopwords list:"
   ]
  },
  {
   "cell_type": "code",
   "execution_count": 116,
   "metadata": {},
   "outputs": [],
   "source": [
    "stops_df = pd.read_csv('./data/stopwords.csv').drop(columns=['Unnamed: 0'])\n",
    "stops = list(stops_df['0'])\n",
    "cvec = CountVectorizer(stop_words=stops)\n"
   ]
  },
  {
   "cell_type": "code",
   "execution_count": 119,
   "metadata": {},
   "outputs": [
    {
     "data": {
      "text/plain": [
       "((13992,), (4664,), (13992,), (4664,))"
      ]
     },
     "execution_count": 119,
     "metadata": {},
     "output_type": "execute_result"
    }
   ],
   "source": [
    "# test train split -- my data is pretty close to a 50/50 balance, but I will stratify just to be safe:\n",
    "X_train, X_test, y_train, y_test = train_test_split(X,y,random_state = 42, stratify=y)\n",
    "\n",
    "X_train.shape, X_test.shape, y_train.shape, y_test.shape"
   ]
  },
  {
   "cell_type": "code",
   "execution_count": 134,
   "metadata": {},
   "outputs": [
    {
     "data": {
      "text/plain": [
       "((13992, 23616), (4664, 23616), (13992,), (4664,))"
      ]
     },
     "execution_count": 134,
     "metadata": {},
     "output_type": "execute_result"
    }
   ],
   "source": [
    "# Count Vectorize with the NEW stop_words list:\n",
    "cv = CountVectorizer(stop_words=stops)\n",
    "cv.fit(X_train,y_train)\n",
    "X_train = cv.transform(X_train)\n",
    "X_test  = cv.transform(X_test)\n",
    "\n",
    "X_train.shape, X_test.shape, y_train.shape, y_test.shape"
   ]
  },
  {
   "cell_type": "code",
   "execution_count": 135,
   "metadata": {},
   "outputs": [
    {
     "name": "stdout",
     "output_type": "stream",
     "text": [
      "Train: 0.952544311034877, Test: 0.8072469982847341\n"
     ]
    }
   ],
   "source": [
    "model = LogisticRegression()\n",
    "model.fit(X_train,y_train)\n",
    "lr_train = model.score(X_train,y_train)\n",
    "lr_test  = model.score(X_test,y_test)\n",
    "print(f'Train: {lr_train}, Test: {lr_test}')"
   ]
  },
  {
   "cell_type": "code",
   "execution_count": 122,
   "metadata": {},
   "outputs": [],
   "source": [
    "text_list = [\"Warhammer is a fustercluck in space\", \n",
    "        \"Yeah just like GOT is, but on a made up planet.\",\n",
    "        \"I love warhammer, but my point is it’s too varied to really quantify or compare to other franchises. There’s GoT, there’s Predator, there’s Star Ship troopers, Star Wars, etc...\",\n",
    "        \"It makes them similar, especially since star wars is fantasy in a sci-fi skirt.\",\n",
    "        \"I came to recommend Piranesi! I love Susanna Clarke. And of course I adore Jonathan Strange and Mr Norrell, one of my all time favorite books... but reading that tome is a bit like reading a whole series of someone else’s books (that is to say it’s a commitment... might not be the quick change of pace the OP is looking for)\",\n",
    "        \"Nearly anything by Patricia Mckillip. Forgotten Beasts of Eld is the standard rec; I'd also suggest Song for the Basilisk or the Book of Atrix Wolfe. Nearly anything by Robin McKinley. Try Sunshine or Chalice. Uprooted or Spinning Silver by Naomi Novik\",    \n",
    "        \"Charisma. GLaDOS has no redeeming features. An amoral psychopath at the best of times, actively sadistic at others. But she has a great sense of humor, so it's easy to like her.\",\n",
    "        \"Dark and doesn't hold back on mature themes? I'd recommend Sangrook Saga by Steve Thomas. I didn't even know he wrote horror until I read it.\"]    "
   ]
  },
  {
   "cell_type": "code",
   "execution_count": 123,
   "metadata": {},
   "outputs": [
    {
     "data": {
      "text/plain": [
       "(8,)"
      ]
     },
     "execution_count": 123,
     "metadata": {},
     "output_type": "execute_result"
    }
   ],
   "source": [
    "comments = pd.DataFrame(text_list,columns = ['comment'])\n",
    "comments = comments['comment']\n",
    "comments.shape"
   ]
  },
  {
   "cell_type": "code",
   "execution_count": 124,
   "metadata": {},
   "outputs": [
    {
     "data": {
      "text/plain": [
       "(8, 23616)"
      ]
     },
     "execution_count": 124,
     "metadata": {},
     "output_type": "execute_result"
    }
   ],
   "source": [
    "comments = cv.transform(comments)\n",
    "comments.shape"
   ]
  },
  {
   "cell_type": "code",
   "execution_count": 130,
   "metadata": {},
   "outputs": [
    {
     "data": {
      "text/plain": [
       "array(['scifi', 'scifi', 'scifi', 'scifi', 'fantasy', 'fantasy',\n",
       "       'fantasy', 'fantasy'], dtype=object)"
      ]
     },
     "execution_count": 130,
     "metadata": {},
     "output_type": "execute_result"
    }
   ],
   "source": [
    "preds = model.predict(comments)\n",
    "probs = model.predict_proba(comments)\n",
    "\n",
    "preds"
   ]
  },
  {
   "cell_type": "code",
   "execution_count": 127,
   "metadata": {},
   "outputs": [],
   "source": [
    "def predict_subreddit(comment):\n",
    "    comments = pd.DataFrame([comment],columns = ['comment'])\n",
    "    comments = comments['comment']\n",
    "    comments = cv.transform(comments)\n",
    "    preds = model.predict(comments)\n",
    "    pred  = preds[0]\n",
    "    probs = lr.predict_proba(comments)\n",
    "    prob  = np.round(np.max(probs[0])*100,2)\n",
    "    print(comment)\n",
    "    print(f'I am {prob}% confident that your comment belongs in r/{pred}.')\n",
    "    print()\n",
    "    return pred, prob\n"
   ]
  },
  {
   "cell_type": "code",
   "execution_count": 128,
   "metadata": {},
   "outputs": [
    {
     "name": "stdout",
     "output_type": "stream",
     "text": [
      "Warhammer is a fustercluck in space\n",
      "I am 92.62% confident that your comment belongs in r/scifi.\n",
      "\n",
      "Yeah just like GOT is, but on a made up planet.\n",
      "I am 89.88% confident that your comment belongs in r/scifi.\n",
      "\n",
      "I love warhammer, but my point is it’s too varied to really quantify or compare to other franchises. There’s GoT, there’s Predator, there’s Star Ship troopers, Star Wars, etc...\n",
      "I am 99.03% confident that your comment belongs in r/scifi.\n",
      "\n",
      "It makes them similar, especially since star wars is fantasy in a sci-fi skirt.\n",
      "I am 55.07% confident that your comment belongs in r/scifi.\n",
      "\n",
      "I came to recommend Piranesi! I love Susanna Clarke. And of course I adore Jonathan Strange and Mr Norrell, one of my all time favorite books... but reading that tome is a bit like reading a whole series of someone else’s books (that is to say it’s a commitment... might not be the quick change of pace the OP is looking for)\n",
      "I am 99.38% confident that your comment belongs in r/fantasy.\n",
      "\n",
      "Nearly anything by Patricia Mckillip. Forgotten Beasts of Eld is the standard rec; I'd also suggest Song for the Basilisk or the Book of Atrix Wolfe. Nearly anything by Robin McKinley. Try Sunshine or Chalice. Uprooted or Spinning Silver by Naomi Novik\n",
      "I am 99.97% confident that your comment belongs in r/fantasy.\n",
      "\n",
      "Charisma. GLaDOS has no redeeming features. An amoral psychopath at the best of times, actively sadistic at others. But she has a great sense of humor, so it's easy to like her.\n",
      "I am 83.24% confident that your comment belongs in r/fantasy.\n",
      "\n",
      "Dark and doesn't hold back on mature themes? I'd recommend Sangrook Saga by Steve Thomas. I didn't even know he wrote horror until I read it.\n",
      "I am 73.64% confident that your comment belongs in r/fantasy.\n",
      "\n"
     ]
    }
   ],
   "source": [
    "for comment in text_list:\n",
    "    pred, prob = predict_subreddit(comment)"
   ]
  },
  {
   "cell_type": "markdown",
   "metadata": {},
   "source": [
    "Make pickles:"
   ]
  },
  {
   "cell_type": "code",
   "execution_count": 140,
   "metadata": {},
   "outputs": [],
   "source": [
    "filename1 = 'reddit_vectorizer.sav'\n",
    "pickle.dump(cv, open(filename1, 'wb'))\n"
   ]
  },
  {
   "cell_type": "code",
   "execution_count": 141,
   "metadata": {},
   "outputs": [],
   "source": [
    "filename2 = 'reddit_model.sav'\n",
    "pickle.dump(model, open(filename2, 'wb'))\n"
   ]
  },
  {
   "cell_type": "markdown",
   "metadata": {},
   "source": [
    "Check to make sure my pickles work:\n",
    "\n",
    "(restart the kernal here)"
   ]
  },
  {
   "cell_type": "code",
   "execution_count": 1,
   "metadata": {},
   "outputs": [],
   "source": [
    "import pandas as pd\n",
    "import numpy as np\n",
    "import pickle\n",
    "\n",
    "text_list = [\"Warhammer is a fustercluck in space\", \n",
    "        \"Yeah just like GOT is, but on a made up planet.\",\n",
    "        \"I love warhammer, but my point is it’s too varied to really quantify or compare to other franchises. There’s GoT, there’s Predator, there’s Star Ship troopers, Star Wars, etc...\",\n",
    "        \"It makes them similar, especially since star wars is fantasy in a sci-fi skirt.\",\n",
    "        \"I came to recommend Piranesi! I love Susanna Clarke. And of course I adore Jonathan Strange and Mr Norrell, one of my all time favorite books... but reading that tome is a bit like reading a whole series of someone else’s books (that is to say it’s a commitment... might not be the quick change of pace the OP is looking for)\",\n",
    "        \"Nearly anything by Patricia Mckillip. Forgotten Beasts of Eld is the standard rec; I'd also suggest Song for the Basilisk or the Book of Atrix Wolfe. Nearly anything by Robin McKinley. Try Sunshine or Chalice. Uprooted or Spinning Silver by Naomi Novik\",    \n",
    "        \"Charisma. GLaDOS has no redeeming features. An amoral psychopath at the best of times, actively sadistic at others. But she has a great sense of humor, so it's easy to like her.\",\n",
    "        \"Dark and doesn't hold back on mature themes? I'd recommend Sangrook Saga by Steve Thomas. I didn't even know he wrote horror until I read it.\"]    "
   ]
  },
  {
   "cell_type": "code",
   "execution_count": 2,
   "metadata": {},
   "outputs": [],
   "source": [
    "filename1 = 'reddit_vectorizer.sav'\n",
    "cv_load = pickle.load(open(filename1, 'rb'))\n",
    "filename2 = 'reddit_model.sav'\n",
    "model_load = pickle.load(open(filename2, 'rb'))"
   ]
  },
  {
   "cell_type": "code",
   "execution_count": 3,
   "metadata": {},
   "outputs": [],
   "source": [
    "def predict_subreddit_new(comment):\n",
    "    comments = pd.DataFrame([comment],columns = ['comment'])\n",
    "    comments = comments['comment']\n",
    "    comments = cv_load.transform(comments)\n",
    "    preds = model_load.predict(comments)\n",
    "    pred  = preds[0]\n",
    "    probs = model_load.predict_proba(comments)\n",
    "    prob  = np.round(np.max(probs[0])*100,2)\n",
    "    print(comment)\n",
    "    print(f'I am {prob}% confident that your comment belongs in r/{pred}.')\n",
    "    print()\n",
    "    return pred, prob\n",
    "\n"
   ]
  },
  {
   "cell_type": "code",
   "execution_count": 4,
   "metadata": {},
   "outputs": [
    {
     "name": "stdout",
     "output_type": "stream",
     "text": [
      "Warhammer is a fustercluck in space\n",
      "I am 92.62% confident that your comment belongs in r/scifi.\n",
      "\n",
      "Yeah just like GOT is, but on a made up planet.\n",
      "I am 89.88% confident that your comment belongs in r/scifi.\n",
      "\n",
      "I love warhammer, but my point is it’s too varied to really quantify or compare to other franchises. There’s GoT, there’s Predator, there’s Star Ship troopers, Star Wars, etc...\n",
      "I am 99.03% confident that your comment belongs in r/scifi.\n",
      "\n",
      "It makes them similar, especially since star wars is fantasy in a sci-fi skirt.\n",
      "I am 55.07% confident that your comment belongs in r/scifi.\n",
      "\n",
      "I came to recommend Piranesi! I love Susanna Clarke. And of course I adore Jonathan Strange and Mr Norrell, one of my all time favorite books... but reading that tome is a bit like reading a whole series of someone else’s books (that is to say it’s a commitment... might not be the quick change of pace the OP is looking for)\n",
      "I am 99.38% confident that your comment belongs in r/fantasy.\n",
      "\n",
      "Nearly anything by Patricia Mckillip. Forgotten Beasts of Eld is the standard rec; I'd also suggest Song for the Basilisk or the Book of Atrix Wolfe. Nearly anything by Robin McKinley. Try Sunshine or Chalice. Uprooted or Spinning Silver by Naomi Novik\n",
      "I am 99.97% confident that your comment belongs in r/fantasy.\n",
      "\n",
      "Charisma. GLaDOS has no redeeming features. An amoral psychopath at the best of times, actively sadistic at others. But she has a great sense of humor, so it's easy to like her.\n",
      "I am 83.24% confident that your comment belongs in r/fantasy.\n",
      "\n",
      "Dark and doesn't hold back on mature themes? I'd recommend Sangrook Saga by Steve Thomas. I didn't even know he wrote horror until I read it.\n",
      "I am 73.64% confident that your comment belongs in r/fantasy.\n",
      "\n"
     ]
    }
   ],
   "source": [
    "for comment in text_list:\n",
    "    pred, prob = predict_subreddit_new(comment)"
   ]
  },
  {
   "cell_type": "code",
   "execution_count": 1,
   "metadata": {},
   "outputs": [],
   "source": [
    "probs = [0.25, 0.75]"
   ]
  },
  {
   "cell_type": "code",
   "execution_count": 12,
   "metadata": {},
   "outputs": [
    {
     "data": {
      "text/html": [
       "<div>\n",
       "<style scoped>\n",
       "    .dataframe tbody tr th:only-of-type {\n",
       "        vertical-align: middle;\n",
       "    }\n",
       "\n",
       "    .dataframe tbody tr th {\n",
       "        vertical-align: top;\n",
       "    }\n",
       "\n",
       "    .dataframe thead th {\n",
       "        text-align: right;\n",
       "    }\n",
       "</style>\n",
       "<table border=\"1\" class=\"dataframe\">\n",
       "  <thead>\n",
       "    <tr style=\"text-align: right;\">\n",
       "      <th></th>\n",
       "      <th>probability</th>\n",
       "    </tr>\n",
       "    <tr>\n",
       "      <th>subreddit</th>\n",
       "      <th></th>\n",
       "    </tr>\n",
       "  </thead>\n",
       "  <tbody>\n",
       "    <tr>\n",
       "      <th>r/fantasy</th>\n",
       "      <td>0.25</td>\n",
       "    </tr>\n",
       "    <tr>\n",
       "      <th>r/scifi</th>\n",
       "      <td>0.75</td>\n",
       "    </tr>\n",
       "  </tbody>\n",
       "</table>\n",
       "</div>"
      ],
      "text/plain": [
       "           probability\n",
       "subreddit             \n",
       "r/fantasy         0.25\n",
       "r/scifi           0.75"
      ]
     },
     "execution_count": 12,
     "metadata": {},
     "output_type": "execute_result"
    }
   ],
   "source": [
    "probs_dict = [{'subreddit': 'r/fantasy', 'probability':probs[0]},\n",
    "              {'subreddit': 'r/scifi',   'probability':probs[1]}]\n",
    "chart_data = pd.DataFrame(probs_dict).set_index(['subreddit'])\n",
    "chart_data"
   ]
  },
  {
   "cell_type": "code",
   "execution_count": 13,
   "metadata": {},
   "outputs": [],
   "source": [
    "import matplotlib.pyplot as plt"
   ]
  },
  {
   "cell_type": "code",
   "execution_count": 17,
   "metadata": {},
   "outputs": [
    {
     "ename": "KeyError",
     "evalue": "'subreddit'",
     "output_type": "error",
     "traceback": [
      "\u001b[0;31m---------------------------------------------------------------------------\u001b[0m",
      "\u001b[0;31mKeyError\u001b[0m                                  Traceback (most recent call last)",
      "\u001b[0;32m~/opt/anaconda3/lib/python3.8/site-packages/pandas/core/indexes/base.py\u001b[0m in \u001b[0;36mget_loc\u001b[0;34m(self, key, method, tolerance)\u001b[0m\n\u001b[1;32m   2894\u001b[0m             \u001b[0;32mtry\u001b[0m\u001b[0;34m:\u001b[0m\u001b[0;34m\u001b[0m\u001b[0;34m\u001b[0m\u001b[0m\n\u001b[0;32m-> 2895\u001b[0;31m                 \u001b[0;32mreturn\u001b[0m \u001b[0mself\u001b[0m\u001b[0;34m.\u001b[0m\u001b[0m_engine\u001b[0m\u001b[0;34m.\u001b[0m\u001b[0mget_loc\u001b[0m\u001b[0;34m(\u001b[0m\u001b[0mcasted_key\u001b[0m\u001b[0;34m)\u001b[0m\u001b[0;34m\u001b[0m\u001b[0;34m\u001b[0m\u001b[0m\n\u001b[0m\u001b[1;32m   2896\u001b[0m             \u001b[0;32mexcept\u001b[0m \u001b[0mKeyError\u001b[0m \u001b[0;32mas\u001b[0m \u001b[0merr\u001b[0m\u001b[0;34m:\u001b[0m\u001b[0;34m\u001b[0m\u001b[0;34m\u001b[0m\u001b[0m\n",
      "\u001b[0;32mpandas/_libs/index.pyx\u001b[0m in \u001b[0;36mpandas._libs.index.IndexEngine.get_loc\u001b[0;34m()\u001b[0m\n",
      "\u001b[0;32mpandas/_libs/index.pyx\u001b[0m in \u001b[0;36mpandas._libs.index.IndexEngine.get_loc\u001b[0;34m()\u001b[0m\n",
      "\u001b[0;32mpandas/_libs/hashtable_class_helper.pxi\u001b[0m in \u001b[0;36mpandas._libs.hashtable.PyObjectHashTable.get_item\u001b[0;34m()\u001b[0m\n",
      "\u001b[0;32mpandas/_libs/hashtable_class_helper.pxi\u001b[0m in \u001b[0;36mpandas._libs.hashtable.PyObjectHashTable.get_item\u001b[0;34m()\u001b[0m\n",
      "\u001b[0;31mKeyError\u001b[0m: 'subreddit'",
      "\nThe above exception was the direct cause of the following exception:\n",
      "\u001b[0;31mKeyError\u001b[0m                                  Traceback (most recent call last)",
      "\u001b[0;32m<ipython-input-17-f69eda54917b>\u001b[0m in \u001b[0;36m<module>\u001b[0;34m\u001b[0m\n\u001b[0;32m----> 1\u001b[0;31m \u001b[0mplt\u001b[0m\u001b[0;34m.\u001b[0m\u001b[0mbar\u001b[0m\u001b[0;34m(\u001b[0m\u001b[0mchart_data\u001b[0m\u001b[0;34m[\u001b[0m\u001b[0;34m'subreddit'\u001b[0m\u001b[0;34m]\u001b[0m\u001b[0;34m,\u001b[0m\u001b[0mchart_data\u001b[0m\u001b[0;34m[\u001b[0m\u001b[0;34m'probability'\u001b[0m\u001b[0;34m]\u001b[0m\u001b[0;34m)\u001b[0m\u001b[0;34m;\u001b[0m\u001b[0;34m\u001b[0m\u001b[0;34m\u001b[0m\u001b[0m\n\u001b[0m",
      "\u001b[0;32m~/opt/anaconda3/lib/python3.8/site-packages/pandas/core/frame.py\u001b[0m in \u001b[0;36m__getitem__\u001b[0;34m(self, key)\u001b[0m\n\u001b[1;32m   2900\u001b[0m             \u001b[0;32mif\u001b[0m \u001b[0mself\u001b[0m\u001b[0;34m.\u001b[0m\u001b[0mcolumns\u001b[0m\u001b[0;34m.\u001b[0m\u001b[0mnlevels\u001b[0m \u001b[0;34m>\u001b[0m \u001b[0;36m1\u001b[0m\u001b[0;34m:\u001b[0m\u001b[0;34m\u001b[0m\u001b[0;34m\u001b[0m\u001b[0m\n\u001b[1;32m   2901\u001b[0m                 \u001b[0;32mreturn\u001b[0m \u001b[0mself\u001b[0m\u001b[0;34m.\u001b[0m\u001b[0m_getitem_multilevel\u001b[0m\u001b[0;34m(\u001b[0m\u001b[0mkey\u001b[0m\u001b[0;34m)\u001b[0m\u001b[0;34m\u001b[0m\u001b[0;34m\u001b[0m\u001b[0m\n\u001b[0;32m-> 2902\u001b[0;31m             \u001b[0mindexer\u001b[0m \u001b[0;34m=\u001b[0m \u001b[0mself\u001b[0m\u001b[0;34m.\u001b[0m\u001b[0mcolumns\u001b[0m\u001b[0;34m.\u001b[0m\u001b[0mget_loc\u001b[0m\u001b[0;34m(\u001b[0m\u001b[0mkey\u001b[0m\u001b[0;34m)\u001b[0m\u001b[0;34m\u001b[0m\u001b[0;34m\u001b[0m\u001b[0m\n\u001b[0m\u001b[1;32m   2903\u001b[0m             \u001b[0;32mif\u001b[0m \u001b[0mis_integer\u001b[0m\u001b[0;34m(\u001b[0m\u001b[0mindexer\u001b[0m\u001b[0;34m)\u001b[0m\u001b[0;34m:\u001b[0m\u001b[0;34m\u001b[0m\u001b[0;34m\u001b[0m\u001b[0m\n\u001b[1;32m   2904\u001b[0m                 \u001b[0mindexer\u001b[0m \u001b[0;34m=\u001b[0m \u001b[0;34m[\u001b[0m\u001b[0mindexer\u001b[0m\u001b[0;34m]\u001b[0m\u001b[0;34m\u001b[0m\u001b[0;34m\u001b[0m\u001b[0m\n",
      "\u001b[0;32m~/opt/anaconda3/lib/python3.8/site-packages/pandas/core/indexes/base.py\u001b[0m in \u001b[0;36mget_loc\u001b[0;34m(self, key, method, tolerance)\u001b[0m\n\u001b[1;32m   2895\u001b[0m                 \u001b[0;32mreturn\u001b[0m \u001b[0mself\u001b[0m\u001b[0;34m.\u001b[0m\u001b[0m_engine\u001b[0m\u001b[0;34m.\u001b[0m\u001b[0mget_loc\u001b[0m\u001b[0;34m(\u001b[0m\u001b[0mcasted_key\u001b[0m\u001b[0;34m)\u001b[0m\u001b[0;34m\u001b[0m\u001b[0;34m\u001b[0m\u001b[0m\n\u001b[1;32m   2896\u001b[0m             \u001b[0;32mexcept\u001b[0m \u001b[0mKeyError\u001b[0m \u001b[0;32mas\u001b[0m \u001b[0merr\u001b[0m\u001b[0;34m:\u001b[0m\u001b[0;34m\u001b[0m\u001b[0;34m\u001b[0m\u001b[0m\n\u001b[0;32m-> 2897\u001b[0;31m                 \u001b[0;32mraise\u001b[0m \u001b[0mKeyError\u001b[0m\u001b[0;34m(\u001b[0m\u001b[0mkey\u001b[0m\u001b[0;34m)\u001b[0m \u001b[0;32mfrom\u001b[0m \u001b[0merr\u001b[0m\u001b[0;34m\u001b[0m\u001b[0;34m\u001b[0m\u001b[0m\n\u001b[0m\u001b[1;32m   2898\u001b[0m \u001b[0;34m\u001b[0m\u001b[0m\n\u001b[1;32m   2899\u001b[0m         \u001b[0;32mif\u001b[0m \u001b[0mtolerance\u001b[0m \u001b[0;32mis\u001b[0m \u001b[0;32mnot\u001b[0m \u001b[0;32mNone\u001b[0m\u001b[0;34m:\u001b[0m\u001b[0;34m\u001b[0m\u001b[0;34m\u001b[0m\u001b[0m\n",
      "\u001b[0;31mKeyError\u001b[0m: 'subreddit'"
     ]
    }
   ],
   "source": [
    "plt.bar(chart_data['subreddit'],chart_data['probability']);"
   ]
  },
  {
   "cell_type": "code",
   "execution_count": null,
   "metadata": {},
   "outputs": [],
   "source": []
  }
 ],
 "metadata": {
  "kernelspec": {
   "display_name": "Python 3",
   "language": "python",
   "name": "python3"
  },
  "language_info": {
   "codemirror_mode": {
    "name": "ipython",
    "version": 3
   },
   "file_extension": ".py",
   "mimetype": "text/x-python",
   "name": "python",
   "nbconvert_exporter": "python",
   "pygments_lexer": "ipython3",
   "version": "3.8.5"
  }
 },
 "nbformat": 4,
 "nbformat_minor": 4
}
